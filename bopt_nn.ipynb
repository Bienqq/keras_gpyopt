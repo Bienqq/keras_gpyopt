{
 "cells": [
  {
   "cell_type": "markdown",
   "metadata": {},
   "source": [
    "# Bayesian Optimization on Keras"
   ]
  },
  {
   "cell_type": "markdown",
   "metadata": {},
   "source": [
    "### MNIST training on Keras with Bayesian optimization\n",
    "* This notebook runs MNIST training on Keras using Bayesian optimization to find the best hyper parameters.\n",
    "* The MNIST model here is just a simple one with one input layer, one hidden layer and one output layer, without convolution.\n",
    "* Hyperparameters of the model include the followings:\n",
    "* - output shape of the first layer\n",
    "* - dropout rate of the first layer\n",
    "* - output shape of the second layer\n",
    "* - dropout rate of the second layer\n",
    "* - batch size\n",
    "* - number of epochs\n",
    "* - validation rate\n",
    "* I used GPy and GPyOpt to run Bayesian optimization."
   ]
  },
  {
   "cell_type": "markdown",
   "metadata": {},
   "source": [
    "#### Import libraries"
   ]
  },
  {
   "cell_type": "code",
   "execution_count": 2,
   "metadata": {
    "collapsed": true
   },
   "outputs": [],
   "source": [
    "import GPy, GPyOpt\n",
    "import numpy as np\n",
    "import pandas as pds\n",
    "import random\n",
    "from keras.layers import Activation, Dropout, BatchNormalization, Dense\n",
    "from keras.models import Sequential\n",
    "from keras.datasets import mnist\n",
    "from keras.metrics import categorical_crossentropy\n",
    "from keras.utils import np_utils\n",
    "from keras.optimizers import Adam\n",
    "from keras.callbacks import EarlyStopping"
   ]
  },
  {
   "cell_type": "code",
   "execution_count": null,
   "metadata": {
    "collapsed": true
   },
   "outputs": [],
   "source": []
  },
  {
   "cell_type": "markdown",
   "metadata": {},
   "source": [
    "#### Define MNIST model\n",
    "* includes data loading function, training function, fit function and evaluation function "
   ]
  },
  {
   "cell_type": "code",
   "execution_count": 3,
   "metadata": {
    "collapsed": true
   },
   "outputs": [],
   "source": [
    "# MNIST class\n",
    "class MNIST():\n",
    "    def __init__(self, first_input=784, last_output=10,\n",
    "                 l1_out=512, \n",
    "                 l2_out=512, \n",
    "                 l1_drop=0.2, \n",
    "                 l2_drop=0.2, \n",
    "                 batch_size=100, \n",
    "                 epochs=10, \n",
    "                 validation_split=0.1):\n",
    "        self.__first_input = first_input\n",
    "        self.__last_output = last_output\n",
    "        self.l1_out = l1_out\n",
    "        self.l2_out = l2_out\n",
    "        self.l1_drop = l1_drop\n",
    "        self.l2_drop = l2_drop\n",
    "        self.batch_size = batch_size\n",
    "        self.epochs = epochs\n",
    "        self.validation_split = validation_split\n",
    "        self.__x_train, self.__x_test, self.__y_train, self.__y_test = self.mnist_data()\n",
    "        self.__model = self.mnist_model()\n",
    "        \n",
    "    # load mnist data from keras dataset\n",
    "    def mnist_data(self):\n",
    "        (X_train, y_train), (X_test, y_test) = mnist.load_data()\n",
    "        X_train = X_train.reshape(60000, 784)\n",
    "        X_test = X_test.reshape(10000, 784)\n",
    "\n",
    "        X_train = X_train.astype('float32')\n",
    "        X_test = X_test.astype('float32')\n",
    "        X_train /= 255\n",
    "        X_test /= 255\n",
    "\n",
    "        Y_train = np_utils.to_categorical(y_train, 10)\n",
    "        Y_test = np_utils.to_categorical(y_test, 10)\n",
    "        return X_train, X_test, Y_train, Y_test\n",
    "    \n",
    "    # mnist model\n",
    "    def mnist_model(self):\n",
    "        model = Sequential()\n",
    "        model.add(Dense(self.l1_out, input_shape=(self.__first_input,)))\n",
    "        model.add(Activation('relu'))\n",
    "        model.add(Dropout(self.l1_drop))\n",
    "        model.add(Dense(self.l2_out))\n",
    "        model.add(Activation('relu'))\n",
    "        model.add(Dropout(self.l2_drop))\n",
    "        model.add(Dense(self.__last_output))\n",
    "        model.add(Activation('softmax'))\n",
    "        model.compile(loss='categorical_crossentropy',\n",
    "                      optimizer=Adam(),\n",
    "                      metrics=['accuracy'])\n",
    "\n",
    "        return model\n",
    "    \n",
    "    # fit mnist model\n",
    "    def mnist_fit(self):\n",
    "        early_stopping = EarlyStopping(patience=0, verbose=1)\n",
    "        \n",
    "        self.__model.fit(self.__x_train, self.__y_train,\n",
    "                       batch_size=self.batch_size,\n",
    "                       epochs=self.epochs,\n",
    "                       verbose=0,\n",
    "                       validation_split=self.validation_split,\n",
    "                       callbacks=[early_stopping])\n",
    "    \n",
    "    # evaluate mnist model\n",
    "    def mnist_evaluate(self):\n",
    "        self.mnist_fit()\n",
    "        \n",
    "        evaluation = self.__model.evaluate(self.__x_test, self.__y_test, batch_size=self.batch_size, verbose=0)\n",
    "        return evaluation"
   ]
  },
  {
   "cell_type": "code",
   "execution_count": null,
   "metadata": {
    "collapsed": true
   },
   "outputs": [],
   "source": []
  },
  {
   "cell_type": "markdown",
   "metadata": {},
   "source": [
    "#### Runner function for the MNIST model"
   ]
  },
  {
   "cell_type": "code",
   "execution_count": 4,
   "metadata": {
    "collapsed": true
   },
   "outputs": [],
   "source": [
    "# function to run mnist class\n",
    "def run_mnist(first_input=784, last_output=10,\n",
    "              l1_out=512, l2_out=512, \n",
    "              l1_drop=0.2, l2_drop=0.2, \n",
    "              batch_size=100, epochs=10, validation_split=0.1):\n",
    "    \n",
    "    _mnist = MNIST(first_input=first_input, last_output=last_output,\n",
    "               l1_out=l1_out, l2_out=l2_out, \n",
    "               l1_drop=l1_drop, l2_drop=l2_drop, \n",
    "               batch_size=batch_size, epochs=epochs, \n",
    "               validation_split=validation_split)\n",
    "    mnist_evaluation = _mnist.mnist_evaluate()\n",
    "    return mnist_evaluation"
   ]
  },
  {
   "cell_type": "code",
   "execution_count": null,
   "metadata": {
    "collapsed": true
   },
   "outputs": [],
   "source": []
  },
  {
   "cell_type": "markdown",
   "metadata": {
    "collapsed": true
   },
   "source": [
    "## Bayesian Optimization\n",
    "#### bounds for hyper parameters"
   ]
  },
  {
   "cell_type": "code",
   "execution_count": 5,
   "metadata": {
    "collapsed": true
   },
   "outputs": [],
   "source": [
    "# bounds for hyper-parameters in mnist model\n",
    "# the bounds dict should be in order of continuous type and then discrete type\n",
    "bounds = [{'name': 'validation_split', 'type': 'continuous',  'domain': (0.0, 0.3)},\n",
    "          {'name': 'l1_drop',          'type': 'continuous',  'domain': (0.0, 0.3)},\n",
    "          {'name': 'l2_drop',          'type': 'continuous',  'domain': (0.0, 0.3)},\n",
    "          {'name': 'l1_out',           'type': 'discrete',    'domain': (64, 128, 256, 512, 1024)},\n",
    "          {'name': 'l2_out',           'type': 'discrete',    'domain': (64, 128, 256, 512, 1024)},\n",
    "          {'name': 'batch_size',       'type': 'discrete',    'domain': (10, 100, 500)},\n",
    "          {'name': 'epochs',           'type': 'discrete',    'domain': (5, 10, 20)}]"
   ]
  },
  {
   "cell_type": "markdown",
   "metadata": {},
   "source": [
    "#### Bayesian Optimization"
   ]
  },
  {
   "cell_type": "code",
   "execution_count": 6,
   "metadata": {
    "collapsed": true
   },
   "outputs": [],
   "source": [
    "# function to optimize mnist model\n",
    "def f(x):\n",
    "    print(x)\n",
    "    evaluation = run_mnist(\n",
    "        l1_drop = int(x[:,1]), \n",
    "        l2_drop = int(x[:,2]), \n",
    "        l1_out = float(x[:,3]),\n",
    "        l2_out = float(x[:,4]), \n",
    "        batch_size = int(x[:,5]), \n",
    "        epochs = int(x[:,6]), \n",
    "        validation_split = float(x[:,0]))\n",
    "    print(\"loss:{0} \\t\\t accuracy:{1}\".format(evaluation[0], evaluation[1]))\n",
    "    print(evaluation)\n",
    "    return evaluation[0]"
   ]
  },
  {
   "cell_type": "markdown",
   "metadata": {},
   "source": [
    "#### Optimizer instance"
   ]
  },
  {
   "cell_type": "code",
   "execution_count": 7,
   "metadata": {},
   "outputs": [
    {
     "name": "stdout",
     "output_type": "stream",
     "text": [
      "[[   0.29676309    0.17885343    0.2227852    64.          128.          100.\n",
      "     5.        ]]\n",
      "Downloading data from https://s3.amazonaws.com/img-datasets/mnist.npz\n",
      "Epoch 00001: early stopping\n",
      "loss:0.09619285663531628 \t\t accuracy:0.9688000053167343\n",
      "[0.096192856635316279, 0.96880000531673427]\n",
      "[[  2.89676156e-01   1.34951510e-01   1.94380078e-01   5.12000000e+02\n",
      "    2.56000000e+02   1.00000000e+02   5.00000000e+00]]\n",
      "Epoch 00003: early stopping\n",
      "loss:0.08108302017499228 \t\t accuracy:0.9760000091791153\n",
      "[0.081083020174992276, 0.97600000917911534]\n",
      "[[  1.51259432e-01   2.29184280e-01   1.37943174e-01   2.56000000e+02\n",
      "    2.56000000e+02   5.00000000e+02   1.00000000e+01]]\n",
      "Epoch 00002: early stopping\n",
      "loss:0.08585127568105236 \t\t accuracy:0.972700007557869\n",
      "[0.085851275681052358, 0.97270000755786901]\n",
      "[[  3.52710110e-02   2.56120828e-01   7.82379775e-02   1.02400000e+03\n",
      "    2.56000000e+02   5.00000000e+02   5.00000000e+00]]\n",
      "Epoch 00005: early stopping\n",
      "loss:0.0714341328185401 \t\t accuracy:0.9789000087976456\n",
      "[0.071434132818540094, 0.9789000087976456]\n",
      "[[  8.93574258e-02   8.64992873e-02   2.19945675e-01   1.28000000e+02\n",
      "    2.56000000e+02   1.00000000e+01   1.00000000e+01]]\n",
      "Epoch 00004: early stopping\n",
      "loss:0.06915725008613663 \t\t accuracy:0.9775000053644181\n",
      "[0.069157250086136629, 0.97750000536441806]\n"
     ]
    }
   ],
   "source": [
    "# optimizer\n",
    "opt_mnist = GPyOpt.methods.BayesianOptimization(f=f, domain=bounds)"
   ]
  },
  {
   "cell_type": "markdown",
   "metadata": {},
   "source": [
    "#### Running optimization"
   ]
  },
  {
   "cell_type": "code",
   "execution_count": 8,
   "metadata": {},
   "outputs": [
    {
     "name": "stdout",
     "output_type": "stream",
     "text": [
      "[[  8.93574957e-02   8.64991953e-02   2.19945487e-01   1.28000000e+02\n",
      "    2.56000000e+02   1.00000000e+01   1.00000000e+01]]\n",
      "Epoch 00002: early stopping\n",
      "loss:0.07749225622072117 \t\t accuracy:0.9744000029563904\n",
      "[0.077492256220721173, 0.9744000029563904]\n",
      "[[  3.52903196e-02   2.56028660e-01   7.82641139e-02   1.02400000e+03\n",
      "    2.56000000e+02   5.00000000e+02   5.00000000e+00]]\n",
      "Epoch 00004: early stopping\n",
      "loss:0.07497146660884027 \t\t accuracy:0.9781000065803528\n",
      "[0.07497146660884027, 0.97810000658035279]\n",
      "[[  3.00000000e-01   0.00000000e+00   3.00000000e-01   1.02400000e+03\n",
      "    2.56000000e+02   5.00000000e+02   5.00000000e+00]]\n",
      "Epoch 00004: early stopping\n",
      "loss:0.06450482949090657 \t\t accuracy:0.9805000054836274\n",
      "[0.064504829490906565, 0.98050000548362737]\n",
      "[[  3.00000000e-01   0.00000000e+00   3.00000000e-01   1.02400000e+03\n",
      "    2.56000000e+02   5.00000000e+02   5.00000000e+00]]\n",
      "Epoch 00003: early stopping\n",
      "loss:0.0665446940700349 \t\t accuracy:0.9791000044345856\n",
      "[0.066544694070034896, 0.97910000443458556]\n"
     ]
    }
   ],
   "source": [
    "# optimize mnist model\n",
    "opt_mnist.run_optimization(max_iter=10)"
   ]
  },
  {
   "cell_type": "markdown",
   "metadata": {},
   "source": [
    "#### The output"
   ]
  },
  {
   "cell_type": "code",
   "execution_count": 15,
   "metadata": {},
   "outputs": [
    {
     "name": "stdout",
     "output_type": "stream",
     "text": [
      "optimized parameters: [  3.00000000e-01   0.00000000e+00   3.00000000e-01   1.02400000e+03\n",
      "   2.56000000e+02   5.00000000e+02   5.00000000e+00]\n",
      "optimized loss: [ 0.06450483]\n"
     ]
    }
   ],
   "source": [
    "# print optimized mnist model\n",
    "print(\"optimized parameters: {0}\".format(opt_mnist.x_opt))\n",
    "print(\"optimized loss: {0}\".format(opt_mnist.fx_opt))"
   ]
  },
  {
   "cell_type": "code",
   "execution_count": null,
   "metadata": {
    "collapsed": true
   },
   "outputs": [],
   "source": []
  }
 ],
 "metadata": {
  "anaconda-cloud": {},
  "kernelspec": {
   "display_name": "Python [default]",
   "language": "python",
   "name": "python3"
  },
  "language_info": {
   "codemirror_mode": {
    "name": "ipython",
    "version": 3
   },
   "file_extension": ".py",
   "mimetype": "text/x-python",
   "name": "python",
   "nbconvert_exporter": "python",
   "pygments_lexer": "ipython3",
   "version": "3.5.2"
  }
 },
 "nbformat": 4,
 "nbformat_minor": 2
}
